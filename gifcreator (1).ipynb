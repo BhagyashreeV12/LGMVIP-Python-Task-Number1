{
  "nbformat": 4,
  "nbformat_minor": 0,
  "metadata": {
    "colab": {
      "provenance": []
    },
    "kernelspec": {
      "name": "python3",
      "display_name": "Python 3"
    },
    "language_info": {
      "name": "python"
    }
  },
  "cells": [
    {
      "cell_type": "code",
      "source": [
        "!pip install Pillow imageio\n",
        "\n",
        "from PIL import Image, ImageDraw, ImageFont\n",
        "import imageio\n",
        "import os\n",
        "\n",
        "def create_frames(text, num_frames=30, width=200, height=100, font_size=30):\n",
        "    frames = []\n",
        "    # Try using a default font available in the system\n",
        "    font = ImageFont.load_default()\n",
        "\n",
        "    for i in range(num_frames):\n",
        "        frame = Image.new(\"RGB\", (width, height), (255, 255, 255))\n",
        "        draw = ImageDraw.Draw(frame)\n",
        "        text_width, text_height = draw.textsize(text, font=font)\n",
        "        x = (width - text_width) * i / num_frames\n",
        "        y = (height - text_height) / 2\n",
        "        draw.text((x, y), text, fill=\"blue\", font=font)\n",
        "        frames.append(frame)\n",
        "\n",
        "    return frames\n",
        "\n",
        "def save_gif(frames, output_path, duration=0.1):\n",
        "    frames[0].save(output_path, save_all=True, append_images=frames[1:], duration=duration*1000, loop=0)\n",
        "\n",
        "# Create frames\n",
        "frames = create_frames(\"Bhagyashree\", num_frames=30)\n",
        "\n",
        "# Save frames as a GIF\n",
        "save_gif(frames, \"output.gif\")\n",
        "\n",
        "# Display the GIF\n",
        "from IPython.display import Image as IPImage[]\n",
        "IPImage(filename=\"output.gif\")\n"
      ],
      "metadata": {
        "colab": {
          "base_uri": "https://localhost:8080/",
          "height": 1000
        },
        "id": "_DoJy9OFF7ng",
        "outputId": "e7b3d291-00e5-4672-b907-c01896a94a19"
      },
      "execution_count": null,
      "outputs": [
        {
          "output_type": "stream",
          "name": "stdout",
          "text": [
            "Requirement already satisfied: Pillow in /usr/local/lib/python3.10/dist-packages (9.4.0)\n",
            "Requirement already satisfied: imageio in /usr/local/lib/python3.10/dist-packages (2.34.2)\n",
            "Requirement already satisfied: numpy in /usr/local/lib/python3.10/dist-packages (from imageio) (1.26.4)\n"
          ]
        },
        {
          "output_type": "stream",
          "name": "stderr",
          "text": [
            "<ipython-input-18-b9b4d4a5bec9>:15: DeprecationWarning: textsize is deprecated and will be removed in Pillow 10 (2023-07-01). Use textbbox or textlength instead.\n",
            "  text_width, text_height = draw.textsize(text, font=font)\n",
            "<ipython-input-18-b9b4d4a5bec9>:15: DeprecationWarning: textsize is deprecated and will be removed in Pillow 10 (2023-07-01). Use textbbox or textlength instead.\n",
            "  text_width, text_height = draw.textsize(text, font=font)\n",
            "<ipython-input-18-b9b4d4a5bec9>:15: DeprecationWarning: textsize is deprecated and will be removed in Pillow 10 (2023-07-01). Use textbbox or textlength instead.\n",
            "  text_width, text_height = draw.textsize(text, font=font)\n",
            "<ipython-input-18-b9b4d4a5bec9>:15: DeprecationWarning: textsize is deprecated and will be removed in Pillow 10 (2023-07-01). Use textbbox or textlength instead.\n",
            "  text_width, text_height = draw.textsize(text, font=font)\n",
            "<ipython-input-18-b9b4d4a5bec9>:15: DeprecationWarning: textsize is deprecated and will be removed in Pillow 10 (2023-07-01). Use textbbox or textlength instead.\n",
            "  text_width, text_height = draw.textsize(text, font=font)\n",
            "<ipython-input-18-b9b4d4a5bec9>:15: DeprecationWarning: textsize is deprecated and will be removed in Pillow 10 (2023-07-01). Use textbbox or textlength instead.\n",
            "  text_width, text_height = draw.textsize(text, font=font)\n",
            "<ipython-input-18-b9b4d4a5bec9>:15: DeprecationWarning: textsize is deprecated and will be removed in Pillow 10 (2023-07-01). Use textbbox or textlength instead.\n",
            "  text_width, text_height = draw.textsize(text, font=font)\n",
            "<ipython-input-18-b9b4d4a5bec9>:15: DeprecationWarning: textsize is deprecated and will be removed in Pillow 10 (2023-07-01). Use textbbox or textlength instead.\n",
            "  text_width, text_height = draw.textsize(text, font=font)\n",
            "<ipython-input-18-b9b4d4a5bec9>:15: DeprecationWarning: textsize is deprecated and will be removed in Pillow 10 (2023-07-01). Use textbbox or textlength instead.\n",
            "  text_width, text_height = draw.textsize(text, font=font)\n",
            "<ipython-input-18-b9b4d4a5bec9>:15: DeprecationWarning: textsize is deprecated and will be removed in Pillow 10 (2023-07-01). Use textbbox or textlength instead.\n",
            "  text_width, text_height = draw.textsize(text, font=font)\n",
            "<ipython-input-18-b9b4d4a5bec9>:15: DeprecationWarning: textsize is deprecated and will be removed in Pillow 10 (2023-07-01). Use textbbox or textlength instead.\n",
            "  text_width, text_height = draw.textsize(text, font=font)\n",
            "<ipython-input-18-b9b4d4a5bec9>:15: DeprecationWarning: textsize is deprecated and will be removed in Pillow 10 (2023-07-01). Use textbbox or textlength instead.\n",
            "  text_width, text_height = draw.textsize(text, font=font)\n",
            "<ipython-input-18-b9b4d4a5bec9>:15: DeprecationWarning: textsize is deprecated and will be removed in Pillow 10 (2023-07-01). Use textbbox or textlength instead.\n",
            "  text_width, text_height = draw.textsize(text, font=font)\n",
            "<ipython-input-18-b9b4d4a5bec9>:15: DeprecationWarning: textsize is deprecated and will be removed in Pillow 10 (2023-07-01). Use textbbox or textlength instead.\n",
            "  text_width, text_height = draw.textsize(text, font=font)\n",
            "<ipython-input-18-b9b4d4a5bec9>:15: DeprecationWarning: textsize is deprecated and will be removed in Pillow 10 (2023-07-01). Use textbbox or textlength instead.\n",
            "  text_width, text_height = draw.textsize(text, font=font)\n",
            "<ipython-input-18-b9b4d4a5bec9>:15: DeprecationWarning: textsize is deprecated and will be removed in Pillow 10 (2023-07-01). Use textbbox or textlength instead.\n",
            "  text_width, text_height = draw.textsize(text, font=font)\n",
            "<ipython-input-18-b9b4d4a5bec9>:15: DeprecationWarning: textsize is deprecated and will be removed in Pillow 10 (2023-07-01). Use textbbox or textlength instead.\n",
            "  text_width, text_height = draw.textsize(text, font=font)\n",
            "<ipython-input-18-b9b4d4a5bec9>:15: DeprecationWarning: textsize is deprecated and will be removed in Pillow 10 (2023-07-01). Use textbbox or textlength instead.\n",
            "  text_width, text_height = draw.textsize(text, font=font)\n",
            "<ipython-input-18-b9b4d4a5bec9>:15: DeprecationWarning: textsize is deprecated and will be removed in Pillow 10 (2023-07-01). Use textbbox or textlength instead.\n",
            "  text_width, text_height = draw.textsize(text, font=font)\n",
            "<ipython-input-18-b9b4d4a5bec9>:15: DeprecationWarning: textsize is deprecated and will be removed in Pillow 10 (2023-07-01). Use textbbox or textlength instead.\n",
            "  text_width, text_height = draw.textsize(text, font=font)\n",
            "<ipython-input-18-b9b4d4a5bec9>:15: DeprecationWarning: textsize is deprecated and will be removed in Pillow 10 (2023-07-01). Use textbbox or textlength instead.\n",
            "  text_width, text_height = draw.textsize(text, font=font)\n",
            "<ipython-input-18-b9b4d4a5bec9>:15: DeprecationWarning: textsize is deprecated and will be removed in Pillow 10 (2023-07-01). Use textbbox or textlength instead.\n",
            "  text_width, text_height = draw.textsize(text, font=font)\n",
            "<ipython-input-18-b9b4d4a5bec9>:15: DeprecationWarning: textsize is deprecated and will be removed in Pillow 10 (2023-07-01). Use textbbox or textlength instead.\n",
            "  text_width, text_height = draw.textsize(text, font=font)\n",
            "<ipython-input-18-b9b4d4a5bec9>:15: DeprecationWarning: textsize is deprecated and will be removed in Pillow 10 (2023-07-01). Use textbbox or textlength instead.\n",
            "  text_width, text_height = draw.textsize(text, font=font)\n",
            "<ipython-input-18-b9b4d4a5bec9>:15: DeprecationWarning: textsize is deprecated and will be removed in Pillow 10 (2023-07-01). Use textbbox or textlength instead.\n",
            "  text_width, text_height = draw.textsize(text, font=font)\n",
            "<ipython-input-18-b9b4d4a5bec9>:15: DeprecationWarning: textsize is deprecated and will be removed in Pillow 10 (2023-07-01). Use textbbox or textlength instead.\n",
            "  text_width, text_height = draw.textsize(text, font=font)\n",
            "<ipython-input-18-b9b4d4a5bec9>:15: DeprecationWarning: textsize is deprecated and will be removed in Pillow 10 (2023-07-01). Use textbbox or textlength instead.\n",
            "  text_width, text_height = draw.textsize(text, font=font)\n",
            "<ipython-input-18-b9b4d4a5bec9>:15: DeprecationWarning: textsize is deprecated and will be removed in Pillow 10 (2023-07-01). Use textbbox or textlength instead.\n",
            "  text_width, text_height = draw.textsize(text, font=font)\n",
            "<ipython-input-18-b9b4d4a5bec9>:15: DeprecationWarning: textsize is deprecated and will be removed in Pillow 10 (2023-07-01). Use textbbox or textlength instead.\n",
            "  text_width, text_height = draw.textsize(text, font=font)\n",
            "<ipython-input-18-b9b4d4a5bec9>:15: DeprecationWarning: textsize is deprecated and will be removed in Pillow 10 (2023-07-01). Use textbbox or textlength instead.\n",
            "  text_width, text_height = draw.textsize(text, font=font)\n"
          ]
        },
        {
          "output_type": "execute_result",
          "data": {
            "image/gif": "[encoded data removed]",
            "text/plain": [
              "<IPython.core.display.Image object>"
            ]
          },
          "metadata": {},
          "execution_count": 18
        }
      ]
    },
    {
      "cell_type": "code",
      "source": [],
      "metadata": {
        "id": "8sLlqtWrGs0w"
      },
      "execution_count": null,
      "outputs": []
    }
  ]
}